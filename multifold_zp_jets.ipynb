{
 "cells": [
  {
   "cell_type": "markdown",
   "metadata": {},
   "source": [
    "Follows $\\texttt{https://github.com/ericmetodiev/OmniFold/blob/master/OmniFold\\%20Demo.ipynb}$ but uses pip-installable version of OmniFold"
   ]
  },
  {
   "cell_type": "code",
   "execution_count": 1,
   "metadata": {},
   "outputs": [
    {
     "name": "stderr",
     "output_type": "stream",
     "text": [
      "2025-03-23 16:46:25.718781: E external/local_xla/xla/stream_executor/cuda/cuda_fft.cc:467] Unable to register cuFFT factory: Attempting to register factory for plugin cuFFT when one has already been registered\n",
      "WARNING: All log messages before absl::InitializeLog() is called are written to STDERR\n",
      "E0000 00:00:1742773585.735572  736131 cuda_dnn.cc:8579] Unable to register cuDNN factory: Attempting to register factory for plugin cuDNN when one has already been registered\n",
      "E0000 00:00:1742773585.740651  736131 cuda_blas.cc:1407] Unable to register cuBLAS factory: Attempting to register factory for plugin cuBLAS when one has already been registered\n",
      "W0000 00:00:1742773585.755634  736131 computation_placer.cc:177] computation placer already registered. Please check linkage and avoid linking the same target more than once.\n",
      "W0000 00:00:1742773585.755651  736131 computation_placer.cc:177] computation placer already registered. Please check linkage and avoid linking the same target more than once.\n",
      "W0000 00:00:1742773585.755653  736131 computation_placer.cc:177] computation placer already registered. Please check linkage and avoid linking the same target more than once.\n",
      "W0000 00:00:1742773585.755655  736131 computation_placer.cc:177] computation placer already registered. Please check linkage and avoid linking the same target more than once.\n",
      "2025-03-23 16:46:25.760598: I tensorflow/core/platform/cpu_feature_guard.cc:210] This TensorFlow binary is optimized to use available CPU instructions in performance-critical operations.\n",
      "To enable the following instructions: AVX2 FMA, in other operations, rebuild TensorFlow with the appropriate compiler flags.\n"
     ]
    },
    {
     "name": "stdout",
     "output_type": "stream",
     "text": [
      "Horovod not found, will continue with single only GPUs.\n"
     ]
    }
   ],
   "source": [
    "import numpy as np\n",
    "from matplotlib import pyplot as plt\n",
    "\n",
    "import energyflow as ef # for data\n",
    "import omnifold # for omnifold algorithm\n",
    "\n",
    "# Local imports for plotting (source: https://github.com/ericmetodiev/OmniFold/blob/master/modplot.py)\n",
    "import modplot\n",
    "from plot_utils import *\n",
    "\n",
    "plt.rcParams['figure.figsize'] = (4,4)\n",
    "plt.rcParams['figure.dpi'] = 120\n",
    "plt.rcParams['font.family'] = 'serif'\n",
    "\n",
    "# Global variables\n",
    "OBS_MULTIFOLD = ['Mass', 'Mult', 'Width', 'Tau21', 'zg', 'SDMass']\n",
    "N_DATA = int(1e6)\n",
    "N_ITER = 10\n",
    "BATCH_SIZE = 500\n",
    "EPOCHS = 10\n",
    "N_JOBS = 16\n"
   ]
  },
  {
   "cell_type": "markdown",
   "metadata": {},
   "source": [
    "# Load data"
   ]
  },
  {
   "cell_type": "markdown",
   "metadata": {},
   "source": [
    "We assume, for simplicity:\n",
    "1. That everything passes the reco and gen cuts\n",
    "2. That the data is already normalized\n",
    "3. That the data is uniformly weighted, to begin"
   ]
  },
  {
   "cell_type": "markdown",
   "metadata": {},
   "source": [
    "We choose Pythia as the Monte Carlo data"
   ]
  },
  {
   "cell_type": "code",
   "execution_count": 2,
   "metadata": {},
   "outputs": [
    {
     "name": "stdout",
     "output_type": "stream",
     "text": [
      "INFO: Creating weights ...\n",
      "INFO: Creating pass reco flag ...\n",
      "INFO: Creating pass gen flag ...\n"
     ]
    }
   ],
   "source": [
    "data_mc_dict = ef.zjets_delphes.load('Pythia26', num_data=N_DATA, exclude_keys=['particles'])\n",
    "data_mc_gen = {k.replace(\"gen_\", \"\"): data_mc_dict[k] for k in data_mc_dict.keys() if 'gen_' in k}\n",
    "data_mc_sim= {k.replace(\"sim_\", \"\"): data_mc_dict[k] for k in data_mc_dict.keys() if 'sim_' in k}\n",
    "\n",
    "data_mc_gen['Mass'] = data_mc_gen['jets'][:,3]\n",
    "data_mc_gen.pop('jets')\n",
    "data_mc_gen['Mult'] = data_mc_gen.pop('mults')\n",
    "data_mc_gen['Width'] = data_mc_gen.pop('widths')\n",
    "data_mc_gen['Tau21'] = data_mc_gen.pop('tau2s')\n",
    "data_mc_gen['zg'] = data_mc_gen.pop('zgs')\n",
    "data_mc_gen['SDMass'] = data_mc_gen.pop('sdms')\n",
    "data_mc_gen = np.concatenate([data_mc_gen[k].reshape((N_DATA,1)) for k in OBS_MULTIFOLD], axis=1)\n",
    "\n",
    "data_mc_sim['Mass'] = data_mc_sim['jets'][:,3]\n",
    "data_mc_sim.pop('jets')\n",
    "data_mc_sim['Mult'] = data_mc_sim.pop('mults')\n",
    "data_mc_sim['Width'] = data_mc_sim.pop('widths')\n",
    "data_mc_sim['Tau21'] = data_mc_sim.pop('tau2s')\n",
    "data_mc_sim['zg'] = data_mc_sim.pop('zgs')\n",
    "data_mc_sim['SDMass'] = data_mc_sim.pop('sdms')\n",
    "data_mc_sim = np.concatenate([data_mc_sim[k].reshape((N_DATA,1)) for k in OBS_MULTIFOLD], axis=1)\n",
    "\n",
    "# Create DataLoader object\n",
    "data_mc = omnifold.DataLoader(reco=data_mc_sim, gen=data_mc_gen)\n"
   ]
  },
  {
   "cell_type": "markdown",
   "metadata": {},
   "source": [
    "And Hedwig as the true/nature data"
   ]
  },
  {
   "cell_type": "code",
   "execution_count": 3,
   "metadata": {},
   "outputs": [
    {
     "name": "stdout",
     "output_type": "stream",
     "text": [
      "INFO: Creating weights ...\n",
      "INFO: Creating pass reco flag ...\n",
      "INFO: Creating pass gen flag ...\n"
     ]
    }
   ],
   "source": [
    "data_nature_dict = ef.zjets_delphes.load('Herwig', num_data=N_DATA, exclude_keys=['particles'])\n",
    "data_nature_gen = {k.replace(\"gen_\", \"\"): data_nature_dict[k] for k in data_nature_dict.keys() if 'gen_' in k}\n",
    "data_nature_sim= {k.replace(\"sim_\", \"\"): data_nature_dict[k] for k in data_nature_dict.keys() if 'sim_' in k}\n",
    "\n",
    "data_nature_gen['Mass'] = data_nature_gen['jets'][:,3]\n",
    "data_nature_gen.pop('jets')\n",
    "data_nature_gen['Mult'] = data_nature_gen.pop('mults')\n",
    "data_nature_gen['Width'] = data_nature_gen.pop('widths')\n",
    "data_nature_gen['Tau21'] = data_nature_gen.pop('tau2s')\n",
    "data_nature_gen['zg'] = data_nature_gen.pop('zgs')\n",
    "data_nature_gen['SDMass'] = data_nature_gen.pop('sdms')\n",
    "data_nature_gen = np.concatenate([data_nature_gen[k].reshape((N_DATA,1)) for k in OBS_MULTIFOLD], axis=1)\n",
    "\n",
    "data_nature_sim['Mass'] = data_nature_sim['jets'][:,3]\n",
    "data_nature_sim.pop('jets')\n",
    "data_nature_sim['Mult'] = data_nature_sim.pop('mults')\n",
    "data_nature_sim['Width'] = data_nature_sim.pop('widths')\n",
    "data_nature_sim['Tau21'] = data_nature_sim.pop('tau2s')\n",
    "data_nature_sim['zg'] = data_nature_sim.pop('zgs')\n",
    "data_nature_sim['SDMass'] = data_nature_sim.pop('sdms')\n",
    "data_nature_sim = np.concatenate([data_nature_sim[k].reshape((N_DATA,1)) for k in OBS_MULTIFOLD], axis=1)\n",
    "\n",
    "# Create DataLoader object\n",
    "data_nature = omnifold.DataLoader(reco=data_nature_sim, gen=data_nature_gen)\n"
   ]
  },
  {
   "cell_type": "markdown",
   "metadata": {},
   "source": [
    "# Construct MultiFold object"
   ]
  },
  {
   "cell_type": "code",
   "execution_count": 4,
   "metadata": {},
   "outputs": [
    {
     "name": "stderr",
     "output_type": "stream",
     "text": [
      "I0000 00:00:1742773592.951719  736131 gpu_device.cc:2019] Created device /job:localhost/replica:0/task:0/device:GPU:0 with 888 MB memory:  -> device: 0, name: NVIDIA A100-PCIE-40GB, pci bus id: 0000:c3:00.0, compute capability: 8.0\n"
     ]
    },
    {
     "name": "stdout",
     "output_type": "stream",
     "text": [
      "250 training steps at reco and 250 steps at gen\n"
     ]
    }
   ],
   "source": [
    "name = \"MultiFold\"\n",
    "model_reco = omnifold.net.MLP(nvars = len(OBS_MULTIFOLD))\n",
    "model_gen = omnifold.net.MLP(nvars = len(OBS_MULTIFOLD))\n",
    "data = data_nature\n",
    "mc = data_mc\n",
    "model = omnifold.MultiFold(\n",
    "    name=name, \n",
    "    model_reco=model_reco, \n",
    "    model_gen=model_gen, \n",
    "    data=data, \n",
    "    mc=mc, \n",
    "    niter=N_ITER,\n",
    "    batch_size=BATCH_SIZE,\n",
    "    epochs=EPOCHS,\n",
    "    size=N_JOBS)\n",
    "\n",
    "# Keep track of original weights\n",
    "mc_w_init = model.mc.weight.copy()\n",
    "data_w_init = model.data.weight.copy()"
   ]
  },
  {
   "cell_type": "markdown",
   "metadata": {},
   "source": [
    "# Unfold"
   ]
  },
  {
   "cell_type": "code",
   "execution_count": 5,
   "metadata": {},
   "outputs": [
    {
     "name": "stdout",
     "output_type": "stream",
     "text": [
      "ITERATION: 1\n",
      "RUNNING STEP 1\n"
     ]
    },
    {
     "name": "stderr",
     "output_type": "stream",
     "text": [
      "WARNING: All log messages before absl::InitializeLog() is called are written to STDERR\n",
      "I0000 00:00:1742773595.416300  737095 service.cc:152] XLA service 0x7fd8e00059c0 initialized for platform CUDA (this does not guarantee that XLA will be used). Devices:\n",
      "I0000 00:00:1742773595.416333  737095 service.cc:160]   StreamExecutor device (0): NVIDIA A100-PCIE-40GB, Compute Capability 8.0\n",
      "2025-03-23 16:46:35.441649: I tensorflow/compiler/mlir/tensorflow/utils/dump_mlir_util.cc:269] disabling MLIR crash reproducer, set env var `MLIR_CRASH_REPRODUCER_DIRECTORY` to enable.\n",
      "I0000 00:00:1742773595.609990  737095 cuda_dnn.cc:529] Loaded cuDNN version 90300\n",
      "I0000 00:00:1742773596.208424  737095 device_compiler.h:188] Compiled cluster using XLA!  This line is logged at most once for the lifetime of the process.\n"
     ]
    },
    {
     "name": "stdout",
     "output_type": "stream",
     "text": [
      "Last val loss 0.6802902817726135\n",
      "INFO: Dumping training history ...\n",
      "RUNNING STEP 2\n",
      "Last val loss 0.6961603760719299\n",
      "INFO: Dumping training history ...\n",
      "ITERATION: 2\n",
      "RUNNING STEP 1\n",
      "Last val loss 0.7029992938041687\n",
      "INFO: Dumping training history ...\n",
      "RUNNING STEP 2\n",
      "Last val loss 0.6758874654769897\n",
      "INFO: Dumping training history ...\n",
      "ITERATION: 3\n",
      "RUNNING STEP 1\n",
      "Last val loss 0.6898609399795532\n",
      "INFO: Dumping training history ...\n",
      "RUNNING STEP 2\n",
      "Last val loss 0.6951307654380798\n",
      "INFO: Dumping training history ...\n",
      "ITERATION: 4\n",
      "RUNNING STEP 1\n",
      "Last val loss 0.6952818632125854\n",
      "INFO: Dumping training history ...\n",
      "RUNNING STEP 2\n",
      "Last val loss 0.6740889549255371\n",
      "INFO: Dumping training history ...\n",
      "ITERATION: 5\n",
      "RUNNING STEP 1\n",
      "Last val loss 0.6793612837791443\n",
      "INFO: Dumping training history ...\n",
      "RUNNING STEP 2\n",
      "Last val loss 0.678454577922821\n",
      "INFO: Dumping training history ...\n",
      "ITERATION: 6\n",
      "RUNNING STEP 1\n",
      "Last val loss 0.6968636512756348\n",
      "INFO: Dumping training history ...\n",
      "RUNNING STEP 2\n",
      "Last val loss 0.6808276176452637\n",
      "INFO: Dumping training history ...\n",
      "ITERATION: 7\n",
      "RUNNING STEP 1\n",
      "Last val loss 0.6906448602676392\n",
      "INFO: Dumping training history ...\n",
      "RUNNING STEP 2\n",
      "Last val loss 0.6768935918807983\n",
      "INFO: Dumping training history ...\n",
      "ITERATION: 8\n",
      "RUNNING STEP 1\n",
      "Last val loss 0.6767371892929077\n",
      "INFO: Dumping training history ...\n",
      "RUNNING STEP 2\n",
      "Last val loss 0.6904736161231995\n",
      "INFO: Dumping training history ...\n",
      "ITERATION: 9\n",
      "RUNNING STEP 1\n",
      "Last val loss 0.7093308568000793\n",
      "INFO: Dumping training history ...\n",
      "RUNNING STEP 2\n",
      "Last val loss 0.6758638620376587\n",
      "INFO: Dumping training history ...\n",
      "ITERATION: 10\n",
      "RUNNING STEP 1\n",
      "Last val loss 0.6920849084854126\n",
      "INFO: Dumping training history ...\n",
      "RUNNING STEP 2\n",
      "Last val loss 0.6806981563568115\n",
      "INFO: Dumping training history ...\n"
     ]
    }
   ],
   "source": [
    "model.Unfold()"
   ]
  },
  {
   "cell_type": "markdown",
   "metadata": {},
   "source": [
    "# Evaluate"
   ]
  },
  {
   "cell_type": "markdown",
   "metadata": {},
   "source": [
    "e.g. Mass"
   ]
  },
  {
   "cell_type": "code",
   "execution_count": null,
   "metadata": {},
   "outputs": [
    {
     "data": {
      "text/plain": [
       "<matplotlib.legend.Legend at 0x7fe1a039f110>"
      ]
     },
     "execution_count": 11,
     "metadata": {},
     "output_type": "execute_result"
    },
    {
     "data": {
      "image/png": "[encoded data removed]",
      "text/plain": [
       "<Figure size 480x480 with 1 Axes>"
      ]
     },
     "metadata": {},
     "output_type": "display_data"
    }
   ],
   "source": [
    "mass_bins = np.linspace(0, 100, 300)\n",
    "\n",
    "plt.figure()\n",
    "plt.hist(data_nature_gen[:,0], bins=mass_bins, weights=model.data.weight, histtype='step', label='Particle-level, truth')\n",
    "plt.hist(data_nature_sim[:,0], bins=mass_bins, weights=model.mc.weight, histtype='step', label='Reco-level, truth, initial')\n",
    "plt.hist(data_nature_sim[:,0], bins=mass_bins, weights=model.weights_push, histtype='step', label='Reco-level, truth, unfolded')\n",
    "# plt.fill_between(data_mc_sim[:,0], bins=mass_bins, weights=model.weights_push, label='Reco-level, sim, unfolded')\n",
    "plt.title(\"MultiFold, 6 observables\")\n",
    "plt.xlabel('Mass')\n",
    "plt.ylabel('Counts')\n",
    "plt.legend()"
   ]
  },
  {
   "cell_type": "code",
   "execution_count": null,
   "metadata": {},
   "outputs": [],
   "source": []
  }
 ],
 "metadata": {
  "kernelspec": {
   "display_name": "omnifold",
   "language": "python",
   "name": "python3"
  },
  "language_info": {
   "codemirror_mode": {
    "name": "ipython",
    "version": 3
   },
   "file_extension": ".py",
   "mimetype": "text/x-python",
   "name": "python",
   "nbconvert_exporter": "python",
   "pygments_lexer": "ipython3",
   "version": "3.12.9"
  }
 },
 "nbformat": 4,
 "nbformat_minor": 2
}
