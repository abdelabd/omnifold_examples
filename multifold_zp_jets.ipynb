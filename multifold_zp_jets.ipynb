{
 "cells": [
  {
   "cell_type": "markdown",
   "metadata": {},
   "source": [
    "Follows $\\texttt{https://github.com/ericmetodiev/OmniFold/blob/master/OmniFold\\%20Demo.ipynb}$ but uses pip-installable version of OmniFold"
   ]
  },
  {
   "cell_type": "code",
   "execution_count": 1,
   "metadata": {},
   "outputs": [
    {
     "name": "stderr",
     "output_type": "stream",
     "text": [
      "2025-03-23 15:58:01.658697: E external/local_xla/xla/stream_executor/cuda/cuda_fft.cc:467] Unable to register cuFFT factory: Attempting to register factory for plugin cuFFT when one has already been registered\n",
      "WARNING: All log messages before absl::InitializeLog() is called are written to STDERR\n",
      "E0000 00:00:1742770681.676315  477008 cuda_dnn.cc:8579] Unable to register cuDNN factory: Attempting to register factory for plugin cuDNN when one has already been registered\n",
      "E0000 00:00:1742770681.681540  477008 cuda_blas.cc:1407] Unable to register cuBLAS factory: Attempting to register factory for plugin cuBLAS when one has already been registered\n",
      "W0000 00:00:1742770681.697682  477008 computation_placer.cc:177] computation placer already registered. Please check linkage and avoid linking the same target more than once.\n",
      "W0000 00:00:1742770681.697699  477008 computation_placer.cc:177] computation placer already registered. Please check linkage and avoid linking the same target more than once.\n",
      "W0000 00:00:1742770681.697701  477008 computation_placer.cc:177] computation placer already registered. Please check linkage and avoid linking the same target more than once.\n",
      "W0000 00:00:1742770681.697703  477008 computation_placer.cc:177] computation placer already registered. Please check linkage and avoid linking the same target more than once.\n",
      "2025-03-23 15:58:01.703231: I tensorflow/core/platform/cpu_feature_guard.cc:210] This TensorFlow binary is optimized to use available CPU instructions in performance-critical operations.\n",
      "To enable the following instructions: AVX2 FMA, in other operations, rebuild TensorFlow with the appropriate compiler flags.\n"
     ]
    },
    {
     "name": "stdout",
     "output_type": "stream",
     "text": [
      "Horovod not found, will continue with single only GPUs.\n"
     ]
    }
   ],
   "source": [
    "import numpy as np\n",
    "from matplotlib import pyplot as plt\n",
    "\n",
    "import energyflow as ef # for data\n",
    "import omnifold # for omnifold algorithm\n",
    "\n",
    "# Local imports for plotting (source: https://github.com/ericmetodiev/OmniFold/blob/master/modplot.py)\n",
    "import modplot\n",
    "from plot_utils import *\n",
    "\n",
    "plt.rcParams['figure.figsize'] = (4,4)\n",
    "plt.rcParams['figure.dpi'] = 120\n",
    "plt.rcParams['font.family'] = 'serif'\n",
    "\n",
    "# Global variables\n",
    "OBS_MULTIFOLD = ['Mass', 'Mult', 'Width', 'Tau21', 'zg', 'SDMass']\n",
    "N_DATA = int(1e6)\n"
   ]
  },
  {
   "cell_type": "markdown",
   "metadata": {},
   "source": []
  },
  {
   "cell_type": "markdown",
   "metadata": {},
   "source": [
    "# Load data"
   ]
  },
  {
   "cell_type": "code",
   "execution_count": null,
   "metadata": {},
   "outputs": [],
   "source": []
  },
  {
   "cell_type": "markdown",
   "metadata": {},
   "source": [
    "Choose Pythia as the Monte Carlo data"
   ]
  },
  {
   "cell_type": "code",
   "execution_count": null,
   "metadata": {},
   "outputs": [
    {
     "ename": "AxisError",
     "evalue": "axis 1 is out of bounds for array of dimension 1",
     "output_type": "error",
     "traceback": [
      "\u001b[0;31m---------------------------------------------------------------------------\u001b[0m",
      "\u001b[0;31mAxisError\u001b[0m                                 Traceback (most recent call last)",
      "Cell \u001b[0;32mIn[33], line 12\u001b[0m\n\u001b[1;32m     10\u001b[0m data_mc_gen[\u001b[38;5;124m'\u001b[39m\u001b[38;5;124mzg\u001b[39m\u001b[38;5;124m'\u001b[39m] \u001b[38;5;241m=\u001b[39m data_mc_gen\u001b[38;5;241m.\u001b[39mpop(\u001b[38;5;124m'\u001b[39m\u001b[38;5;124mzgs\u001b[39m\u001b[38;5;124m'\u001b[39m)\n\u001b[1;32m     11\u001b[0m data_mc_gen[\u001b[38;5;124m'\u001b[39m\u001b[38;5;124mSDMass\u001b[39m\u001b[38;5;124m'\u001b[39m] \u001b[38;5;241m=\u001b[39m data_mc_gen\u001b[38;5;241m.\u001b[39mpop(\u001b[38;5;124m'\u001b[39m\u001b[38;5;124msdms\u001b[39m\u001b[38;5;124m'\u001b[39m)\n\u001b[0;32m---> 12\u001b[0m data_mc_gen \u001b[38;5;241m=\u001b[39m \u001b[43mnp\u001b[49m\u001b[38;5;241;43m.\u001b[39;49m\u001b[43mconcatenate\u001b[49m\u001b[43m(\u001b[49m\u001b[43m[\u001b[49m\u001b[43mdata_mc_gen\u001b[49m\u001b[43m[\u001b[49m\u001b[43mk\u001b[49m\u001b[43m]\u001b[49m\u001b[43m \u001b[49m\u001b[38;5;28;43;01mfor\u001b[39;49;00m\u001b[43m \u001b[49m\u001b[43mk\u001b[49m\u001b[43m \u001b[49m\u001b[38;5;129;43;01min\u001b[39;49;00m\u001b[43m \u001b[49m\u001b[43mobs_multifold\u001b[49m\u001b[43m]\u001b[49m\u001b[43m,\u001b[49m\u001b[43m \u001b[49m\u001b[43maxis\u001b[49m\u001b[38;5;241;43m=\u001b[39;49m\u001b[38;5;241;43m1\u001b[39;49m\u001b[43m)\u001b[49m\n\u001b[1;32m     13\u001b[0m \u001b[38;5;28mprint\u001b[39m(\u001b[38;5;124mf\u001b[39m\u001b[38;5;124m\"\u001b[39m\u001b[38;5;124mdata_mc_gen.shape: \u001b[39m\u001b[38;5;132;01m{\u001b[39;00mdata_mc_gen\u001b[38;5;241m.\u001b[39mshape\u001b[38;5;132;01m}\u001b[39;00m\u001b[38;5;124m\"\u001b[39m)\n\u001b[1;32m     15\u001b[0m data_mc_sim[\u001b[38;5;124m'\u001b[39m\u001b[38;5;124mMass\u001b[39m\u001b[38;5;124m'\u001b[39m] \u001b[38;5;241m=\u001b[39m data_mc_sim[\u001b[38;5;124m'\u001b[39m\u001b[38;5;124mjets\u001b[39m\u001b[38;5;124m'\u001b[39m][:,\u001b[38;5;241m3\u001b[39m]\n",
      "\u001b[0;31mAxisError\u001b[0m: axis 1 is out of bounds for array of dimension 1"
     ]
    }
   ],
   "source": [
    "data_mc = ef.zjets_delphes.load('Pythia26', num_data=n_data, exclude_keys=['particles'])\n",
    "data_mc_gen = {k.replace(\"gen_\", \"\"): data_mc[k] for k in data_mc.keys() if 'gen_' in k}\n",
    "data_mc_sim= {k.replace(\"sim_\", \"\"): data_mc[k] for k in data_mc.keys() if 'sim_' in k}\n",
    "\n",
    "data_mc_gen['Mass'] = data_mc_gen['jets'][:,3]\n",
    "data_mc_gen.pop('jets')\n",
    "data_mc_gen['Mult'] = data_mc_gen.pop('mults')\n",
    "data_mc_gen['Width'] = data_mc_gen.pop('widths')\n",
    "data_mc_gen['Tau21'] = data_mc_gen.pop('tau2s')\n",
    "data_mc_gen['zg'] = data_mc_gen.pop('zgs')\n",
    "data_mc_gen['SDMass'] = data_mc_gen.pop('sdms')\n",
    "data_mc_gen = np.concatenate([data_mc_gen[k].reshape() for k in obs_multifold], axis=1)\n",
    "print(f\"data_mc_gen.shape: {data_mc_gen.shape}\")\n",
    "\n",
    "data_mc_sim['Mass'] = data_mc_sim['jets'][:,3]\n",
    "data_mc_sim.pop('jets')\n",
    "data_mc_sim['Mult'] = data_mc_sim.pop('mults')\n",
    "data_mc_sim['Width'] = data_mc_sim.pop('widths')\n",
    "data_mc_sim['Tau21'] = data_mc_sim.pop('tau2s')\n",
    "data_mc_sim['zg'] = data_mc_sim.pop('zgs')\n",
    "data_mc_sim['SDMass'] = data_mc_sim.pop('sdms')\n",
    "\n",
    "# Create DataLoader objects"
   ]
  },
  {
   "cell_type": "code",
   "execution_count": 34,
   "metadata": {},
   "outputs": [
    {
     "data": {
      "text/plain": [
       "(1000000,)"
      ]
     },
     "execution_count": 34,
     "metadata": {},
     "output_type": "execute_result"
    }
   ],
   "source": [
    "data_mc_gen['Mass'].shape"
   ]
  },
  {
   "cell_type": "code",
   "execution_count": 24,
   "metadata": {},
   "outputs": [
    {
     "data": {
      "text/plain": [
       "(1000000, 4)"
      ]
     },
     "execution_count": 24,
     "metadata": {},
     "output_type": "execute_result"
    }
   ],
   "source": [
    "data_mc_gen['jets'].shape"
   ]
  },
  {
   "cell_type": "code",
   "execution_count": 25,
   "metadata": {},
   "outputs": [
    {
     "data": {
      "text/plain": [
       "dict_keys(['tau2s', 'widths', 'Zs', 'ang2s', 'zgs', 'jets', 'mults', 'sdms', 'lhas'])"
      ]
     },
     "execution_count": 25,
     "metadata": {},
     "output_type": "execute_result"
    }
   ],
   "source": [
    "data_mc_gen.keys()"
   ]
  },
  {
   "cell_type": "markdown",
   "metadata": {},
   "source": [
    "And Hedwig as the true/nature data"
   ]
  },
  {
   "cell_type": "code",
   "execution_count": null,
   "metadata": {},
   "outputs": [],
   "source": [
    "datasets = {'Pythia26': ef.zjets_delphes.load('Pythia26', num_data=1000000, exclude_keys=['particles']),\n",
    "            'Herwig': ef.zjets_delphes.load('Herwig', num_data=1000000, exclude_keys=['particles'])}\n",
    "\n",
    "# choose what is MC and Data in this context\n",
    "data_mc, data_nature = datasets['Pythia26'], datasets['Herwig']\n",
    "\n",
    "# how many iterations of the unfolding process\n",
    "itnum = 3\n",
    "\n"
   ]
  },
  {
   "cell_type": "code",
   "execution_count": 13,
   "metadata": {},
   "outputs": [
    {
     "data": {
      "text/plain": [
       "dict_keys(['gen_tau2s', 'gen_widths', 'gen_Zs', 'gen_ang2s', 'gen_zgs', 'gen_jets', 'gen_mults', 'gen_sdms', 'gen_lhas', 'sim_tau2s', 'sim_widths', 'sim_ang2s', 'sim_zgs', 'sim_jets', 'sim_mults', 'sim_sdms', 'sim_lhas'])"
      ]
     },
     "execution_count": 13,
     "metadata": {},
     "output_type": "execute_result"
    }
   ],
   "source": [
    "data_mc.keys()"
   ]
  },
  {
   "cell_type": "markdown",
   "metadata": {},
   "source": [
    "# Construct DataLoader objects"
   ]
  },
  {
   "cell_type": "markdown",
   "metadata": {},
   "source": [
    "Let's assume, for simplicity, that everything passes both the reco and gen cuts."
   ]
  },
  {
   "cell_type": "code",
   "execution_count": 6,
   "metadata": {},
   "outputs": [],
   "source": [
    "data_mc_gen = {k.replace(\"gen_\", \"\"): data_mc[k] for k in data_mc.keys() if 'gen_' in k}\n",
    "data_mc_sim= {k.replace(\"sim_\", \"\"): data_nature[k] for k in data_nature.keys() if 'sim_' in k}\n",
    "\n",
    "data_nature_gen = {k.replace(\"gen_\", \"\"): data_nature[k] for k in data_nature.keys() if 'gen_' in k}\n",
    "data_nature_sim = {k.replace(\"sim_\", \"\"): data_nature[k] for k in data_nature.keys() if 'sim_' in k}"
   ]
  },
  {
   "cell_type": "markdown",
   "metadata": {},
   "source": [
    "Now the dataloader objects: truth, Monte-Carlo"
   ]
  },
  {
   "cell_type": "code",
   "execution_count": null,
   "metadata": {},
   "outputs": [],
   "source": []
  },
  {
   "cell_type": "markdown",
   "metadata": {},
   "source": [
    "# MultiFold object"
   ]
  },
  {
   "cell_type": "code",
   "execution_count": 8,
   "metadata": {},
   "outputs": [
    {
     "ename": "KeyError",
     "evalue": "'Mass'",
     "output_type": "error",
     "traceback": [
      "\u001b[0;31m---------------------------------------------------------------------------\u001b[0m",
      "\u001b[0;31mKeyError\u001b[0m                                  Traceback (most recent call last)",
      "Cell \u001b[0;32mIn[8], line 4\u001b[0m\n\u001b[1;32m      2\u001b[0m model_reco \u001b[38;5;241m=\u001b[39m omnifold\u001b[38;5;241m.\u001b[39mnet\u001b[38;5;241m.\u001b[39mMLP(nvars \u001b[38;5;241m=\u001b[39m \u001b[38;5;28mlen\u001b[39m(obs_multifold))\n\u001b[1;32m      3\u001b[0m model_gen \u001b[38;5;241m=\u001b[39m omnifold\u001b[38;5;241m.\u001b[39mnet\u001b[38;5;241m.\u001b[39mMLP(nvars \u001b[38;5;241m=\u001b[39m \u001b[38;5;28mlen\u001b[39m(obs_multifold))\n\u001b[0;32m----> 4\u001b[0m data \u001b[38;5;241m=\u001b[39m {k: \u001b[43mnature\u001b[49m\u001b[43m[\u001b[49m\u001b[43mk\u001b[49m\u001b[43m]\u001b[49m \u001b[38;5;28;01mfor\u001b[39;00m k \u001b[38;5;129;01min\u001b[39;00m obs_multifold}\n\u001b[1;32m      5\u001b[0m mc \u001b[38;5;241m=\u001b[39m {k: synthetic[k] \u001b[38;5;28;01mfor\u001b[39;00m k \u001b[38;5;129;01min\u001b[39;00m obs_multifold}\n\u001b[1;32m      7\u001b[0m model \u001b[38;5;241m=\u001b[39m omnifold\u001b[38;5;241m.\u001b[39mMultiFold(name\u001b[38;5;241m=\u001b[39mname, model_reco\u001b[38;5;241m=\u001b[39mmodel_reco, model_gen\u001b[38;5;241m=\u001b[39mmodel_gen, data\u001b[38;5;241m=\u001b[39mdata, mc\u001b[38;5;241m=\u001b[39mmc)\n",
      "\u001b[0;31mKeyError\u001b[0m: 'Mass'"
     ]
    }
   ],
   "source": [
    "name = \"MultiFold\"\n",
    "model_reco = omnifold.net.MLP(nvars = len(obs_multifold))\n",
    "model_gen = omnifold.net.MLP(nvars = len(obs_multifold))\n",
    "data = {k: nature[k] for k in obs_multifold}\n",
    "mc = {k: synthetic[k] for k in obs_multifold}\n",
    "\n",
    "model = omnifold.MultiFold(name=name, model_reco=model_reco, model_gen=model_gen, data=data, mc=mc)\n"
   ]
  },
  {
   "cell_type": "code",
   "execution_count": null,
   "metadata": {},
   "outputs": [],
   "source": []
  }
 ],
 "metadata": {
  "kernelspec": {
   "display_name": "omnifold",
   "language": "python",
   "name": "python3"
  },
  "language_info": {
   "codemirror_mode": {
    "name": "ipython",
    "version": 3
   },
   "file_extension": ".py",
   "mimetype": "text/x-python",
   "name": "python",
   "nbconvert_exporter": "python",
   "pygments_lexer": "ipython3",
   "version": "3.12.9"
  }
 },
 "nbformat": 4,
 "nbformat_minor": 2
}
